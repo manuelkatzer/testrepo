{
 "cells": [
  {
   "cell_type": "markdown",
   "id": "8efeee1f-56ce-44af-8538-69bb684bc455",
   "metadata": {},
   "source": [
    "# Data Science Tools and Ecosystem"
   ]
  },
  {
   "cell_type": "markdown",
   "id": "a04a729b-43e6-4f51-8906-1276c49ef68e",
   "metadata": {},
   "source": [
    "In this notebook, Data Science Tools and Ecosystem are summarized."
   ]
  },
  {
   "cell_type": "markdown",
   "id": "be1787b1-bbb3-468c-ba9c-f012e0319321",
   "metadata": {
    "tags": []
   },
   "source": [
    "**Outline**\n",
    "\n",
    "Lists of popular \n",
    "\n",
    "- languages \n",
    "- libraries \n",
    "- tools \n",
    "\n",
    "in the Data Science context,\n",
    "as well as\n",
    "\n",
    "- examples for arithmetic calculations\n",
    "\n",
    "are given"
   ]
  },
  {
   "cell_type": "markdown",
   "id": "62c83bee-9f06-4e4e-9ba2-a9b46736a5ab",
   "metadata": {},
   "source": [
    "Some of the popular languages that Data Scientists use are:\n",
    "\n",
    "1. python\n",
    "2. R\n",
    "3. SQL\n"
   ]
  },
  {
   "cell_type": "markdown",
   "id": "8b1b04eb-af2a-4d92-b56c-8bffe7ece314",
   "metadata": {},
   "source": [
    "Some of the commonly used libraries used by Data Scientists include:\n",
    "\n",
    "Python:\n",
    "1. Pandas\n",
    "2. NumPy\n",
    "3. SciPy\n",
    "4. Mathplotlib\n",
    "5. PyCaret\n",
    "6. BeautifulSoup\n",
    "7. TensorFlow\n",
    "\n",
    "R:\n",
    "1. dplyr\n",
    "2. ggplot2\n",
    "3. tidyr\n",
    "4. caret"
   ]
  },
  {
   "cell_type": "markdown",
   "id": "7ad5fc6c-2134-41b0-af18-cdc58dacaf46",
   "metadata": {
    "tags": []
   },
   "source": [
    "|Data Science Tools|\n",
    "|----|\n",
    "|Jupyter Notebook|\n",
    "|RStudio|\n",
    "|Visual Studio Code|"
   ]
  },
  {
   "cell_type": "markdown",
   "id": "f531c0cc-343c-4d0d-93bd-2fd42341893e",
   "metadata": {},
   "source": [
    "### Below are a few examples of evaluating arithmetic expressions in Python"
   ]
  },
  {
   "cell_type": "code",
   "execution_count": null,
   "id": "880f73a6-ecbe-4d00-b2ca-3b334fb82579",
   "metadata": {
    "tags": []
   },
   "outputs": [],
   "source": [
    "# This a simple arithmetic expression to mutiply then add integers\n",
    "(3*4)+5"
   ]
  },
  {
   "cell_type": "code",
   "execution_count": null,
   "id": "1a028175-f920-47f2-8dde-eb6f8bfda83a",
   "metadata": {
    "tags": []
   },
   "outputs": [],
   "source": [
    "# This will convert 200 minutes to hours by dividing by 60\n",
    "200/60"
   ]
  },
  {
   "cell_type": "markdown",
   "id": "1781bab7-dbaf-403d-ac75-7c05f40f548e",
   "metadata": {},
   "source": [
    "## Author\n",
    "Manuel Katzer"
   ]
  },
  {
   "cell_type": "code",
   "execution_count": null,
   "id": "e9a262ec-1ecb-454f-a328-273fc7bb84e5",
   "metadata": {},
   "outputs": [],
   "source": []
  }
 ],
 "metadata": {
  "kernelspec": {
   "display_name": "Python",
   "language": "python",
   "name": "conda-env-python-py"
  },
  "language_info": {
   "codemirror_mode": {
    "name": "ipython",
    "version": 3
   },
   "file_extension": ".py",
   "mimetype": "text/x-python",
   "name": "python",
   "nbconvert_exporter": "python",
   "pygments_lexer": "ipython3",
   "version": "3.7.12"
  }
 },
 "nbformat": 4,
 "nbformat_minor": 5
}
